{
 "cells": [
  {
   "cell_type": "code",
   "execution_count": null,
   "id": "a27d06d9",
   "metadata": {},
   "outputs": [],
   "source": [
    "1. What are the two values of the Boolean data type? How do you write them?\n",
    "ans: Data type boolean can have two values: true and false (Boolean literals).\n",
    "     We write boolen values, true = 1 and false = 0 ."
   ]
  },
  {
   "cell_type": "code",
   "execution_count": null,
   "id": "b77c5b50",
   "metadata": {},
   "outputs": [],
   "source": [
    "2. What are the three different types of Boolean operators?\n",
    "ans:  Three types of boolean operators are: The AND operator (&& or “and”) The OR operator (|| or “or”)and the NOT operator(not)."
   ]
  },
  {
   "cell_type": "code",
   "execution_count": null,
   "id": "754d2901",
   "metadata": {},
   "outputs": [],
   "source": [
    "3. Make a list of each Boolean operator's truth tables (i.e. every possible combination of Boolean values for the operator and what it evaluate ).\n",
    "ans: Truth tables show the result of combining any two expression boolean expressions using the AND operator and the OR operator and the NOT operator.\n",
    "    Consider condition 1(e.g., X) and condition 2(e.g., Y)\n",
    "    condition 1(e.g.,X)  condition 2(e.g.,Y)    NOT X    X AND(&&)Y  X OR(||)Y\n",
    "      FALSE                  FALSE               TRUE      FALSE      FALSE\n",
    "      FALSE                  TRUE                TRUE      FALSE      TRUE\n",
    "      TRUE                   FALSE               FALSE     FALSE      TRUE\n",
    "      TRUE                   TRUE                FALSE     TRUE       TRUE\n",
    "\n"
   ]
  },
  {
   "cell_type": "code",
   "execution_count": null,
   "id": "027c632b",
   "metadata": {},
   "outputs": [],
   "source": [
    "4. What are the values of the following expressions?\n",
    "a.(5 > 4) and (3 == 5) \n",
    "    False\n",
    "b.not (5 > 4)\n",
    "    False\n",
    "c.(5 > 4) or (3 == 5)\n",
    "    True\n",
    "d.not ((5 > 4) or (3 == 5))\n",
    "    False\n",
    "e.(True and True) and (True == False)\n",
    "    False\n",
    "f.(not False) or (not True)\n",
    "    True\n"
   ]
  },
  {
   "cell_type": "code",
   "execution_count": null,
   "id": "cccf4a13",
   "metadata": {},
   "outputs": [],
   "source": [
    "5. What are the six comparison operators?\n",
    "    Six operators are as follows:\n",
    "        1. Equal Operator (==)\n",
    "        2. Not Equal Operator (!=)\n",
    "        3. Greater than Operator (>)\n",
    "        4. Less than Operator (<)\n",
    "        5. Greater than or Equal to Operator(>=)\n",
    "        6. Less than or Equal to Operator (<=)\n",
    "    "
   ]
  },
  {
   "cell_type": "code",
   "execution_count": null,
   "id": "cc9f9b24",
   "metadata": {},
   "outputs": [],
   "source": [
    "6. How do you tell the difference between the equal to and assignment operators?Describe a condition and when you would use one.\n",
    "ans: The “=” is an assignment operator is used to assign the value on the right to the variable on the left. The '==' operator checks whether the two given operands are equal or not. If so, it returns true. Otherwise it returns false."
   ]
  },
  {
   "cell_type": "code",
   "execution_count": null,
   "id": "68572be8",
   "metadata": {},
   "outputs": [],
   "source": [
    "7. Identify the three blocks in this code:\n",
    "spam = 0\n",
    "if spam == 10:\n",
    "print('eggs')\n",
    "if spam > 5:\n",
    "print('bacon')\n",
    "else:\n",
    "print('ham')\n",
    "print('spam')\n",
    "print('spam')\n"
   ]
  },
  {
   "cell_type": "code",
   "execution_count": null,
   "id": "7b9b76a3",
   "metadata": {},
   "outputs": [],
   "source": [
    "8.Write code that prints Hello if 1 is stored in spam, prints Howdy if 2 is stored in spam, and prints Greetings! if anything else is stored in spam.\n",
    "spam=0\n",
    "if spam== 1:\n",
    "    print('Hello')\n",
    "if spam== 2:\n",
    "    print('How are you')\n",
    "else:\n",
    "    print('Greetings!')\n"
   ]
  },
  {
   "cell_type": "code",
   "execution_count": null,
   "id": "cf395e67",
   "metadata": {},
   "outputs": [],
   "source": [
    "9.If your programme is stuck in an endless loop, what keys you’ll press?\n",
    "Ctrl + C"
   ]
  },
  {
   "cell_type": "code",
   "execution_count": null,
   "id": "8fc47962",
   "metadata": {},
   "outputs": [],
   "source": [
    "10.How can you tell the difference between break and continue?\n",
    "    break:It eliminates the execution of remaining iteration of loop.\n",
    "    continue:It will terminate only the current iteration of loop."
   ]
  },
  {
   "cell_type": "code",
   "execution_count": null,
   "id": "4506c0b4",
   "metadata": {},
   "outputs": [],
   "source": [
    "11.In a for loop, what is the difference between range(10), range(0, 10), and range(0, 10, 1)?\n",
    "    range(10) prints the number from 0 to 9 ie, 0,1,2,3,4,5,6,7,8,9\n",
    "    range(0,10) prints the number 0,1,2,3,4,5,6,7,8,9\n",
    "    range (0,10,1) prints th number from 0,1,2,3,4,5,6,7,8,9"
   ]
  },
  {
   "cell_type": "code",
   "execution_count": null,
   "id": "36c6d046",
   "metadata": {},
   "outputs": [],
   "source": [
    "12.Write a short program that prints the numbers 1 to 10 using a for loop. Then write an equivalent program that prints the numbers 1 to 10 using a while loop.\n",
    " for loop:\n",
    "        for i in range(1, 11):\n",
    "            print(i)\n",
    " while loop:\n",
    "            i = 1\n",
    "            while(i<=10):\n",
    "                print(i)\n",
    "                i += 1"
   ]
  },
  {
   "cell_type": "code",
   "execution_count": null,
   "id": "922a8b5a",
   "metadata": {},
   "outputs": [],
   "source": [
    "13.If you had a function named bacon() inside a module named spam, how would you call it after importing spam?"
   ]
  }
 ],
 "metadata": {
  "kernelspec": {
   "display_name": "Python 3",
   "language": "python",
   "name": "python3"
  },
  "language_info": {
   "codemirror_mode": {
    "name": "ipython",
    "version": 3
   },
   "file_extension": ".py",
   "mimetype": "text/x-python",
   "name": "python",
   "nbconvert_exporter": "python",
   "pygments_lexer": "ipython3",
   "version": "3.8.8"
  }
 },
 "nbformat": 4,
 "nbformat_minor": 5
}
